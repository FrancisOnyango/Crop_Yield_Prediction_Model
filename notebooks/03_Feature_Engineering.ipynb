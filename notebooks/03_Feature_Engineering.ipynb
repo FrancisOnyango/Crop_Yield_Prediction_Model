{
 "cells": [
  {
   "cell_type": "code",
   "execution_count": null,
   "id": "8ed63fb8",
   "metadata": {},
   "outputs": [],
   "source": [
    "# Feature Engineering\n"
   ]
  },
  {
   "cell_type": "code",
   "execution_count": null,
   "id": "28ef6256",
   "metadata": {},
   "outputs": [],
   "source": [
    "import pandas as pd\n"
   ]
  },
  {
   "cell_type": "code",
   "execution_count": null,
   "id": "52b08536",
   "metadata": {},
   "outputs": [],
   "source": [
    "data = pd.read_csv('data/processed/cleaned_crop_data.csv')\n"
   ]
  },
  {
   "cell_type": "code",
   "execution_count": null,
   "id": "33bba966",
   "metadata": {},
   "outputs": [],
   "source": [
    "data['Rainfall_Seasonal_Avg'] = data['Rainfall (mm)'].rolling(window=5).mean()\n"
   ]
  },
  {
   "cell_type": "code",
   "execution_count": null,
   "id": "3cba774b",
   "metadata": {},
   "outputs": [],
   "source": [
    "data['Weather_Index'] = (data['Rainfall (mm)'] * 0.6) + (data['Temperature (C)'] * 0.4)\n"
   ]
  },
  {
   "cell_type": "code",
   "execution_count": null,
   "id": "7992d045",
   "metadata": {},
   "outputs": [],
   "source": [
    "data.to_csv('data/processed/featured_crop_data.csv', index=False)\n"
   ]
  },
  {
   "cell_type": "code",
   "execution_count": null,
   "id": "d452dc35",
   "metadata": {},
   "outputs": [],
   "source": [
    "data.head()\n"
   ]
  }
 ],
 "metadata": {},
 "nbformat": 4,
 "nbformat_minor": 5
}
