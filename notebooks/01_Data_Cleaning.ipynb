{
 "cells": [
  {
   "cell_type": "code",
   "execution_count": null,
   "id": "7f826ef1",
   "metadata": {},
   "outputs": [],
   "source": [
    "# Data Cleaning and Preparation\n"
   ]
  },
  {
   "cell_type": "code",
   "execution_count": null,
   "id": "fcf48bad",
   "metadata": {},
   "outputs": [],
   "source": [
    "import pandas as pd\n"
   ]
  },
  {
   "cell_type": "code",
   "execution_count": null,
   "id": "092de063",
   "metadata": {},
   "outputs": [],
   "source": [
    "data = pd.read_csv('data/raw/raw_crop_data.csv')\n"
   ]
  },
  {
   "cell_type": "code",
   "execution_count": null,
   "id": "7e954d24",
   "metadata": {},
   "outputs": [],
   "source": [
    "data.head()\n"
   ]
  },
  {
   "cell_type": "code",
   "execution_count": null,
   "id": "f62a373b",
   "metadata": {},
   "outputs": [],
   "source": [
    "data.isnull().sum()\n"
   ]
  },
  {
   "cell_type": "code",
   "execution_count": null,
   "id": "b16ae184",
   "metadata": {},
   "outputs": [],
   "source": [
    "data.fillna(data.median(), inplace=True)\n"
   ]
  },
  {
   "cell_type": "code",
   "execution_count": null,
   "id": "d696a441",
   "metadata": {},
   "outputs": [],
   "source": [
    "def remove_outliers(df, column):\n"
   ]
  },
  {
   "cell_type": "code",
   "execution_count": null,
   "id": "8cafb459",
   "metadata": {},
   "outputs": [],
   "source": [
    "    Q1 = df[column].quantile(0.25)\n"
   ]
  },
  {
   "cell_type": "code",
   "execution_count": null,
   "id": "b14f45a4",
   "metadata": {},
   "outputs": [],
   "source": [
    "    Q3 = df[column].quantile(0.75)\n"
   ]
  },
  {
   "cell_type": "code",
   "execution_count": null,
   "id": "38bd0a5b",
   "metadata": {},
   "outputs": [],
   "source": [
    "    IQR = Q3 - Q1\n"
   ]
  },
  {
   "cell_type": "code",
   "execution_count": null,
   "id": "ab244edd",
   "metadata": {},
   "outputs": [],
   "source": [
    "    return df[(df[column] >= (Q1 - 1.5 * IQR)) & (df[column] <= (Q3 + 1.5 * IQR))]\n"
   ]
  },
  {
   "cell_type": "code",
   "execution_count": null,
   "id": "0487e884",
   "metadata": {},
   "outputs": [],
   "source": [
    "data = remove_outliers(data, 'Rainfall (mm)')\n"
   ]
  },
  {
   "cell_type": "code",
   "execution_count": null,
   "id": "caa9c1bd",
   "metadata": {},
   "outputs": [],
   "source": [
    "data = remove_outliers(data, 'Temperature (C)')\n"
   ]
  },
  {
   "cell_type": "code",
   "execution_count": null,
   "id": "b777799b",
   "metadata": {},
   "outputs": [],
   "source": [
    "data.to_csv('data/processed/cleaned_crop_data.csv', index=False)\n"
   ]
  },
  {
   "cell_type": "code",
   "execution_count": null,
   "id": "8383e2cf",
   "metadata": {},
   "outputs": [],
   "source": [
    "data.head()\n"
   ]
  }
 ],
 "metadata": {},
 "nbformat": 4,
 "nbformat_minor": 5
}
