{
 "cells": [
  {
   "cell_type": "code",
   "execution_count": null,
   "id": "602ae213",
   "metadata": {},
   "outputs": [],
   "source": [
    "# Model Evaluation\n"
   ]
  },
  {
   "cell_type": "code",
   "execution_count": null,
   "id": "85f971d5",
   "metadata": {},
   "outputs": [],
   "source": [
    "import pandas as pd\n"
   ]
  },
  {
   "cell_type": "code",
   "execution_count": null,
   "id": "bd35a78f",
   "metadata": {},
   "outputs": [],
   "source": [
    "import matplotlib.pyplot as plt\n"
   ]
  },
  {
   "cell_type": "code",
   "execution_count": null,
   "id": "f59e8320",
   "metadata": {},
   "outputs": [],
   "source": [
    "from sklearn.metrics import mean_squared_error, mean_absolute_error, r2_score\n"
   ]
  },
  {
   "cell_type": "code",
   "execution_count": null,
   "id": "37ddfac9",
   "metadata": {},
   "outputs": [],
   "source": [
    "import joblib\n"
   ]
  },
  {
   "cell_type": "code",
   "execution_count": null,
   "id": "3dcb8094",
   "metadata": {},
   "outputs": [],
   "source": [
    "data = pd.read_csv('data/processed/featured_crop_data.csv')\n"
   ]
  },
  {
   "cell_type": "code",
   "execution_count": null,
   "id": "e47860e2",
   "metadata": {},
   "outputs": [],
   "source": [
    "X_test = data[['Rainfall (mm)', 'Temperature (C)', 'Soil Quality Index', 'Weather_Index']]\n"
   ]
  },
  {
   "cell_type": "code",
   "execution_count": null,
   "id": "33202988",
   "metadata": {},
   "outputs": [],
   "source": [
    "y_test = data['Crop Yield (tons/hectare)']\n"
   ]
  },
  {
   "cell_type": "code",
   "execution_count": null,
   "id": "aa0ed3ba",
   "metadata": {},
   "outputs": [],
   "source": [
    "model = joblib.load('results/models/best_model.pkl')\n"
   ]
  },
  {
   "cell_type": "code",
   "execution_count": null,
   "id": "71d2188d",
   "metadata": {},
   "outputs": [],
   "source": [
    "y_pred = model.predict(X_test)\n"
   ]
  },
  {
   "cell_type": "code",
   "execution_count": null,
   "id": "4934f800",
   "metadata": {},
   "outputs": [],
   "source": [
    "rmse = mean_squared_error(y_test, y_pred, squared=False)\n"
   ]
  },
  {
   "cell_type": "code",
   "execution_count": null,
   "id": "15853516",
   "metadata": {},
   "outputs": [],
   "source": [
    "mae = mean_absolute_error(y_test, y_pred)\n"
   ]
  },
  {
   "cell_type": "code",
   "execution_count": null,
   "id": "f7f85ea1",
   "metadata": {},
   "outputs": [],
   "source": [
    "r2 = r2_score(y_test, y_pred)\n"
   ]
  },
  {
   "cell_type": "code",
   "execution_count": null,
   "id": "40368866",
   "metadata": {},
   "outputs": [],
   "source": [
    "print(f'RMSE: {rmse}')\n"
   ]
  },
  {
   "cell_type": "code",
   "execution_count": null,
   "id": "e88a5d82",
   "metadata": {},
   "outputs": [],
   "source": [
    "print(f'MAE: {mae}')\n"
   ]
  },
  {
   "cell_type": "code",
   "execution_count": null,
   "id": "d70ace6f",
   "metadata": {},
   "outputs": [],
   "source": [
    "print(f'R² Score: {r2}')\n"
   ]
  },
  {
   "cell_type": "code",
   "execution_count": null,
   "id": "2c53a282",
   "metadata": {},
   "outputs": [],
   "source": [
    "plt.figure(figsize=(10, 6))\n"
   ]
  },
  {
   "cell_type": "code",
   "execution_count": null,
   "id": "ce092b73",
   "metadata": {},
   "outputs": [],
   "source": [
    "plt.scatter(y_test, y_pred, alpha=0.6)\n"
   ]
  },
  {
   "cell_type": "code",
   "execution_count": null,
   "id": "1bddd33a",
   "metadata": {},
   "outputs": [],
   "source": [
    "plt.plot([y_test.min(), y_test.max()], [y_test.min(), y_test.max()], 'r--')\n"
   ]
  },
  {
   "cell_type": "code",
   "execution_count": null,
   "id": "c886f0ba",
   "metadata": {},
   "outputs": [],
   "source": [
    "plt.xlabel('Actual Yield')\n"
   ]
  },
  {
   "cell_type": "code",
   "execution_count": null,
   "id": "488d47bf",
   "metadata": {},
   "outputs": [],
   "source": [
    "plt.ylabel('Predicted Yield')\n"
   ]
  },
  {
   "cell_type": "code",
   "execution_count": null,
   "id": "b460a03b",
   "metadata": {},
   "outputs": [],
   "source": [
    "plt.title('Actual vs Predicted Yield')\n"
   ]
  },
  {
   "cell_type": "code",
   "execution_count": null,
   "id": "6ff0327a",
   "metadata": {},
   "outputs": [],
   "source": [
    "plt.show()\n"
   ]
  }
 ],
 "metadata": {},
 "nbformat": 4,
 "nbformat_minor": 5
}
